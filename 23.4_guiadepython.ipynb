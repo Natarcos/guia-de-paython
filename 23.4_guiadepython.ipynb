{
 "cells": [
  {
   "cell_type": "markdown",
   "id": "7ca7bb6f",
   "metadata": {},
   "source": [
    "# Guia de Python"
   ]
  },
  {
   "cell_type": "markdown",
   "id": "99f5d6eb",
   "metadata": {},
   "source": [
    "## Mi primer Hola Mundo"
   ]
  },
  {
   "cell_type": "code",
   "execution_count": 1,
   "id": "26ab7fec",
   "metadata": {},
   "outputs": [
    {
     "name": "stdout",
     "output_type": "stream",
     "text": [
      "hola mundo\n"
     ]
    }
   ],
   "source": [
    "print('hola mundo')"
   ]
  },
  {
   "cell_type": "code",
   "execution_count": 2,
   "id": "63c3591b",
   "metadata": {},
   "outputs": [
    {
     "name": "stdout",
     "output_type": "stream",
     "text": [
      "The Zen of Python, by Tim Peters\n",
      "\n",
      "Beautiful is better than ugly.\n",
      "Explicit is better than implicit.\n",
      "Simple is better than complex.\n",
      "Complex is better than complicated.\n",
      "Flat is better than nested.\n",
      "Sparse is better than dense.\n",
      "Readability counts.\n",
      "Special cases aren't special enough to break the rules.\n",
      "Although practicality beats purity.\n",
      "Errors should never pass silently.\n",
      "Unless explicitly silenced.\n",
      "In the face of ambiguity, refuse the temptation to guess.\n",
      "There should be one-- and preferably only one --obvious way to do it.\n",
      "Although that way may not be obvious at first unless you're Dutch.\n",
      "Now is better than never.\n",
      "Although never is often better than *right* now.\n",
      "If the implementation is hard to explain, it's a bad idea.\n",
      "If the implementation is easy to explain, it may be a good idea.\n",
      "Namespaces are one honking great idea -- let's do more of those!\n"
     ]
    }
   ],
   "source": [
    "import this"
   ]
  },
  {
   "cell_type": "markdown",
   "id": "6118af53",
   "metadata": {},
   "source": [
    "## Comentarios en python"
   ]
  },
  {
   "cell_type": "code",
   "execution_count": 3,
   "id": "df26be37",
   "metadata": {},
   "outputs": [
    {
     "name": "stdout",
     "output_type": "stream",
     "text": [
      "hola mundo\n"
     ]
    },
    {
     "data": {
      "text/plain": [
       "' \\ncomentario de varias lineas\\nesto es un comentario de varias lineas\\n'"
      ]
     },
     "execution_count": 3,
     "metadata": {},
     "output_type": "execute_result"
    }
   ],
   "source": [
    "print('hola mundo') \n",
    "\n",
    "# esto saca por pantalla un print de hola mundo\n",
    "\n",
    "'''\n",
    "comentario de varias lineas\n",
    "esto es un comentario de varias lineas\n",
    "\n",
    "'''\n",
    "\n",
    "\"\"\" \n",
    "comentario de varias lineas\n",
    "esto es un comentario de varias lineas\n",
    "\"\"\""
   ]
  },
  {
   "cell_type": "markdown",
   "id": "82fba70d",
   "metadata": {},
   "source": [
    "## Variables"
   ]
  },
  {
   "cell_type": "markdown",
   "id": "d44ef71e",
   "metadata": {},
   "source": [
    "#### Reglas de variables\n",
    "\n",
    " Deben comenzar con una letra o un guion bajo <br>\n",
    " No pueden comenzar con un numero  <br>\n",
    " Solo pueden contener caracteres alfanumericos <br>\n",
    " Son sensibles a las mayus y minus "
   ]
  },
  {
   "cell_type": "code",
   "execution_count": 4,
   "id": "fd4f77ba",
   "metadata": {},
   "outputs": [],
   "source": [
    "nombre = 'Juan'\n",
    "edad_usuario = 25\n",
    "contador = 0\n",
    "valorTotal = 100.5"
   ]
  },
  {
   "cell_type": "code",
   "execution_count": 5,
   "id": "57da0ee2",
   "metadata": {},
   "outputs": [
    {
     "data": {
      "text/plain": [
       "'Juan'"
      ]
     },
     "execution_count": 5,
     "metadata": {},
     "output_type": "execute_result"
    }
   ],
   "source": [
    "nombre"
   ]
  },
  {
   "cell_type": "markdown",
   "id": "5a8616ce",
   "metadata": {},
   "source": [
    "### Tipos de datos"
   ]
  },
  {
   "cell_type": "code",
   "execution_count": 6,
   "id": "d1e6bd36",
   "metadata": {},
   "outputs": [
    {
     "name": "stdout",
     "output_type": "stream",
     "text": [
      "<class 'int'>\n",
      "<class 'float'>\n"
     ]
    }
   ],
   "source": [
    "#Enteros o int\n",
    "edad = 25\n",
    "cantidad_estudiantes = -10\n",
    "\n",
    "#Flotantes o float\n",
    "altura = 1.75\n",
    "temperatura = -10.5\n",
    "\n",
    "#Verificar tipos\n",
    "print(type(edad)) #int\n",
    "print(type(altura)) #float"
   ]
  },
  {
   "cell_type": "code",
   "execution_count": 7,
   "id": "51cc3028",
   "metadata": {},
   "outputs": [],
   "source": [
    "a = 10\n",
    "b = float(a) "
   ]
  },
  {
   "cell_type": "code",
   "execution_count": 8,
   "id": "896f1fd0",
   "metadata": {},
   "outputs": [
    {
     "name": "stdout",
     "output_type": "stream",
     "text": [
      "<class 'int'>\n",
      "<class 'float'>\n"
     ]
    }
   ],
   "source": [
    "print(type(a)) #int\n",
    "print(type(b)) #float"
   ]
  },
  {
   "cell_type": "code",
   "execution_count": 9,
   "id": "f0fe1f1c",
   "metadata": {},
   "outputs": [],
   "source": [
    "# operaciones aritméticas\n",
    "suma = 10 + 5\n",
    "resta = 10 - 5\n",
    "multiplicacion = 10 * 5\n",
    "division = 10 / 5\n",
    "division_entera = 10 // 3\n",
    "modulo = 10 % 3\n",
    "potencia = 10 ** 3"
   ]
  },
  {
   "cell_type": "code",
   "execution_count": 10,
   "id": "f7e2cd85",
   "metadata": {},
   "outputs": [],
   "source": [
    "# Strings o cadenas de texto\n",
    "nombre = 'Juanasdasdasdfgsdgdsfhgdkfsjghsdlkjghsdlkfgjhsdlfkgjhsdlglkjhdfg' \n",
    "apellido = 'Pérez'\n",
    "frase = \"Hola, soy Juan Pérez\"\n",
    "otra_frase = 'Hola, soy Juan Pérez'\n",
    "\n",
    "persona = nombre + ' ' + apellido"
   ]
  },
  {
   "cell_type": "code",
   "execution_count": 11,
   "id": "703a4274",
   "metadata": {},
   "outputs": [
    {
     "data": {
      "text/plain": [
       "64"
      ]
     },
     "execution_count": 11,
     "metadata": {},
     "output_type": "execute_result"
    }
   ],
   "source": [
    "len(nombre) # longitud de la cadena"
   ]
  },
  {
   "cell_type": "code",
   "execution_count": 12,
   "id": "14ff7815",
   "metadata": {},
   "outputs": [
    {
     "data": {
      "text/plain": [
       "'JUANASDASDASDFGSDGDSFHGDKFSJGHSDLKJGHSDLKFGJHSDLFKGJHSDLGLKJHDFG'"
      ]
     },
     "execution_count": 12,
     "metadata": {},
     "output_type": "execute_result"
    }
   ],
   "source": [
    "nombre.upper() # convierte a mayúsculas"
   ]
  },
  {
   "cell_type": "code",
   "execution_count": 13,
   "id": "d7af44c1",
   "metadata": {},
   "outputs": [
    {
     "data": {
      "text/plain": [
       "'juanasdasdasdfgsdgdsfhgdkfsjghsdlkjghsdlkfgjhsdlfkgjhsdlglkjhdfg'"
      ]
     },
     "execution_count": 13,
     "metadata": {},
     "output_type": "execute_result"
    }
   ],
   "source": [
    "nombre = nombre.lower() # convierte a minúsculas\n",
    "nombre"
   ]
  },
  {
   "cell_type": "code",
   "execution_count": 14,
   "id": "c65b6ab4",
   "metadata": {},
   "outputs": [
    {
     "data": {
      "text/plain": [
       "'Juanasdasdasdfgsdgdsfhgdkfsjghsdlkjghsdlkfgjhsdlfkgjhsdlglkjhdfg'"
      ]
     },
     "execution_count": 14,
     "metadata": {},
     "output_type": "execute_result"
    }
   ],
   "source": [
    "nombre.capitalize()"
   ]
  },
  {
   "cell_type": "code",
   "execution_count": 15,
   "id": "a3591ba9",
   "metadata": {},
   "outputs": [
    {
     "data": {
      "text/plain": [
       "'hola Juan'"
      ]
     },
     "execution_count": 15,
     "metadata": {},
     "output_type": "execute_result"
    }
   ],
   "source": [
    "reemplazo = 'hola mundo'.replace('mundo', 'Juan')\n",
    "reemplazo"
   ]
  },
  {
   "cell_type": "code",
   "execution_count": 16,
   "id": "f11de6de",
   "metadata": {},
   "outputs": [
    {
     "data": {
      "text/plain": [
       "True"
      ]
     },
     "execution_count": 16,
     "metadata": {},
     "output_type": "execute_result"
    }
   ],
   "source": [
    "#Verificar \n",
    "contiene = 'hola' in 'hola mundo'\n",
    "contiene"
   ]
  },
  {
   "cell_type": "markdown",
   "id": "77356dca",
   "metadata": {},
   "source": [
    "### Valores booleanos ( bool )"
   ]
  },
  {
   "cell_type": "code",
   "execution_count": 17,
   "id": "a2cf96f8",
   "metadata": {},
   "outputs": [],
   "source": [
    "es_estudiante = True \n",
    "tiene_permiso = False"
   ]
  },
  {
   "cell_type": "code",
   "execution_count": 18,
   "id": "47b95a5f",
   "metadata": {},
   "outputs": [
    {
     "data": {
      "text/plain": [
       "True"
      ]
     },
     "execution_count": 18,
     "metadata": {},
     "output_type": "execute_result"
    }
   ],
   "source": [
    "es_estudiante"
   ]
  },
  {
   "cell_type": "code",
   "execution_count": 19,
   "id": "9fb15e15",
   "metadata": {},
   "outputs": [],
   "source": [
    "si_llueve_en_sevilla = True and False # and"
   ]
  },
  {
   "cell_type": "code",
   "execution_count": 20,
   "id": "d2dfb81e",
   "metadata": {},
   "outputs": [],
   "source": [
    "si_llueve_en_sevilla = True or False # and\n"
   ]
  },
  {
   "cell_type": "code",
   "execution_count": 21,
   "id": "7409579d",
   "metadata": {},
   "outputs": [],
   "source": [
    "si_llueve_en_sevilla = not True"
   ]
  },
  {
   "cell_type": "code",
   "execution_count": 22,
   "id": "ac351b76",
   "metadata": {},
   "outputs": [
    {
     "data": {
      "text/plain": [
       "False"
      ]
     },
     "execution_count": 22,
     "metadata": {},
     "output_type": "execute_result"
    }
   ],
   "source": [
    "si_llueve_en_sevilla"
   ]
  },
  {
   "cell_type": "markdown",
   "id": "a3a20208",
   "metadata": {},
   "source": [
    "#### comparaciones"
   ]
  },
  {
   "cell_type": "code",
   "execution_count": 23,
   "id": "b18ac0fb",
   "metadata": {},
   "outputs": [
    {
     "data": {
      "text/plain": [
       "True"
      ]
     },
     "execution_count": 23,
     "metadata": {},
     "output_type": "execute_result"
    }
   ],
   "source": [
    "\n",
    "mayor = 10 > 3 # True\n",
    "mayor"
   ]
  },
  {
   "cell_type": "code",
   "execution_count": 24,
   "id": "d13da700",
   "metadata": {},
   "outputs": [
    {
     "data": {
      "text/plain": [
       "False"
      ]
     },
     "execution_count": 24,
     "metadata": {},
     "output_type": "execute_result"
    }
   ],
   "source": [
    "menor = 10 < 3 # False\n",
    "menor"
   ]
  },
  {
   "cell_type": "code",
   "execution_count": 25,
   "id": "b88ae098",
   "metadata": {},
   "outputs": [
    {
     "data": {
      "text/plain": [
       "True"
      ]
     },
     "execution_count": 25,
     "metadata": {},
     "output_type": "execute_result"
    }
   ],
   "source": [
    "igual = 10 == 10\n",
    "igual"
   ]
  },
  {
   "cell_type": "code",
   "execution_count": 26,
   "id": "a04e0540",
   "metadata": {},
   "outputs": [
    {
     "data": {
      "text/plain": [
       "True"
      ]
     },
     "execution_count": 26,
     "metadata": {},
     "output_type": "execute_result"
    }
   ],
   "source": [
    "diferente = 10 != 11 # False\n",
    "diferente"
   ]
  },
  {
   "cell_type": "code",
   "execution_count": 27,
   "id": "26215016",
   "metadata": {},
   "outputs": [
    {
     "data": {
      "text/plain": [
       "True"
      ]
     },
     "execution_count": 27,
     "metadata": {},
     "output_type": "execute_result"
    }
   ],
   "source": [
    "mayor_igual = 10 >= 10 # True\n",
    "mayor_igual"
   ]
  },
  {
   "cell_type": "code",
   "execution_count": 28,
   "id": "5892ea76",
   "metadata": {},
   "outputs": [
    {
     "data": {
      "text/plain": [
       "True"
      ]
     },
     "execution_count": 28,
     "metadata": {},
     "output_type": "execute_result"
    }
   ],
   "source": [
    "menor_igual = 10 <= 10 # True\n",
    "menor_igual"
   ]
  },
  {
   "cell_type": "code",
   "execution_count": 29,
   "id": "3b89835c",
   "metadata": {},
   "outputs": [
    {
     "data": {
      "text/plain": [
       "True"
      ]
     },
     "execution_count": 29,
     "metadata": {},
     "output_type": "execute_result"
    }
   ],
   "source": [
    "# Verificacion \n",
    "es_entero = isinstance(edad, int) # True\n",
    "es_entero"
   ]
  },
  {
   "cell_type": "code",
   "execution_count": 30,
   "id": "ddd3ca6e",
   "metadata": {},
   "outputs": [],
   "source": [
    "resultados = (2 + 3) * 4"
   ]
  },
  {
   "cell_type": "code",
   "execution_count": 31,
   "id": "587223c4",
   "metadata": {},
   "outputs": [
    {
     "data": {
      "text/plain": [
       "20"
      ]
     },
     "execution_count": 31,
     "metadata": {},
     "output_type": "execute_result"
    }
   ],
   "source": [
    "resultados"
   ]
  },
  {
   "cell_type": "code",
   "execution_count": 32,
   "id": "a4a749e0",
   "metadata": {},
   "outputs": [],
   "source": [
    "def sum_digits(a, b):\n",
    "    return a + b"
   ]
  },
  {
   "cell_type": "markdown",
   "id": "fe3af903",
   "metadata": {},
   "source": [
    "### Comparacion\n"
   ]
  },
  {
   "cell_type": "code",
   "execution_count": 33,
   "id": "8526471a",
   "metadata": {},
   "outputs": [],
   "source": [
    "a = 5\n",
    "b = 10\n",
    "\n"
   ]
  },
  {
   "cell_type": "code",
   "execution_count": 35,
   "id": "a227a003",
   "metadata": {},
   "outputs": [],
   "source": [
    "igualdad = a == b\n",
    "diferente = a != b\n",
    "mayor = a > b\n",
    "menor = a < b\n",
    "mayor_igual = a >= b\n",
    "menor_igual = a <= b\n",
    "\n",
    "#comparacion concatenada\n",
    "en_rango = 1 < a < 10 # True"
   ]
  },
  {
   "cell_type": "code",
   "execution_count": 83,
   "id": "3b529984",
   "metadata": {},
   "outputs": [
    {
     "data": {
      "text/plain": [
       "True"
      ]
     },
     "execution_count": 83,
     "metadata": {},
     "output_type": "execute_result"
    }
   ],
   "source": [
    "en_rango"
   ]
  },
  {
   "cell_type": "markdown",
   "id": "8fa45c20",
   "metadata": {},
   "source": [
    "### Estructuras de control \n",
    "\n",
    "Condicionales : if, elif, else"
   ]
  },
  {
   "cell_type": "code",
   "execution_count": 86,
   "id": "f8016dab",
   "metadata": {},
   "outputs": [
    {
     "name": "stdout",
     "output_type": "stream",
     "text": [
      "Eres mayor de edad\n"
     ]
    }
   ],
   "source": [
    "edad = 33\n",
    "\n",
    "if edad >= 18:\n",
    "    print('Eres mayor de edad')"
   ]
  },
  {
   "cell_type": "code",
   "execution_count": 88,
   "id": "3bd83e7e",
   "metadata": {},
   "outputs": [
    {
     "name": "stdout",
     "output_type": "stream",
     "text": [
      "Hace calor\n"
     ]
    }
   ],
   "source": [
    "temperatura = 35\n",
    "\n",
    "if temperatura > 25:\n",
    "    print('Hace calor')\n",
    "else:\n",
    "    print('No hace calor')"
   ]
  },
  {
   "cell_type": "code",
   "execution_count": 89,
   "id": "37cb5a1a",
   "metadata": {},
   "outputs": [
    {
     "name": "stdout",
     "output_type": "stream",
     "text": [
      "Notable\n"
     ]
    }
   ],
   "source": [
    "nota = 85\n",
    "\n",
    "if nota > 90:\n",
    "    print('Sobresaliente')\n",
    "elif nota > 80:\n",
    "    print('Notable')\n",
    "elif nota > 70:\n",
    "    print('Bien')\n",
    "elif nota > 60:\n",
    "    print('Suficiente')\n",
    "else:\n",
    "    print('Insuficiente')"
   ]
  },
  {
   "cell_type": "code",
   "execution_count": 90,
   "id": "d7d18214",
   "metadata": {},
   "outputs": [
    {
     "name": "stdout",
     "output_type": "stream",
     "text": [
      "bienvenido al sistema\n",
      "no tienes permisos de administrador\n"
     ]
    }
   ],
   "source": [
    "usuario_activo = True\n",
    "admin = False\n",
    "\n",
    "if usuario_activo:\n",
    "    print('bienvenido al sistema')\n",
    "    if admin:\n",
    "        print('tienes permisos de administrador')\n",
    "    else:\n",
    "        print('no tienes permisos de administrador')\n",
    "else:\n",
    "    print('usuario no activo')"
   ]
  },
  {
   "cell_type": "markdown",
   "id": "030b4706",
   "metadata": {},
   "source": [
    "### Bucles"
   ]
  },
  {
   "cell_type": "code",
   "execution_count": 104,
   "id": "ec33b7ee",
   "metadata": {},
   "outputs": [],
   "source": [
    "frutas = ['manzana', 'banana', 'naranja']"
   ]
  },
  {
   "cell_type": "code",
   "execution_count": 105,
   "id": "644e7042",
   "metadata": {},
   "outputs": [
    {
     "name": "stdout",
     "output_type": "stream",
     "text": [
      "manzana\n",
      "banana\n",
      "naranja\n"
     ]
    }
   ],
   "source": [
    "for fruta in frutas:\n",
    "    print(fruta)"
   ]
  },
  {
   "cell_type": "code",
   "execution_count": 108,
   "id": "d64f099e",
   "metadata": {},
   "outputs": [
    {
     "name": "stdout",
     "output_type": "stream",
     "text": [
      "P\n",
      "y\n",
      " \n",
      "t\n",
      "h\n",
      " \n",
      "o\n",
      "n\n"
     ]
    }
   ],
   "source": [
    "for letra in 'py th on':\n",
    "    #si esta en la posicion 0\n",
    "    if letra == 'p':\n",
    "        #ponerla en mayus\n",
    "        print(letra.upper())\n",
    "    else:\n",
    "        print(letra)"
   ]
  },
  {
   "cell_type": "code",
   "execution_count": 38,
   "id": "1ffb9dc7",
   "metadata": {},
   "outputs": [
    {
     "name": "stdout",
     "output_type": "stream",
     "text": [
      "0\n",
      "1\n",
      "2\n",
      "3\n",
      "4\n",
      "5\n",
      "6\n",
      "7\n",
      "8\n",
      "9\n"
     ]
    }
   ],
   "source": [
    "for i in range(10):\n",
    "    print(i)"
   ]
  },
  {
   "cell_type": "code",
   "execution_count": null,
   "id": "c6542f0b",
   "metadata": {},
   "outputs": [
    {
     "name": "stdout",
     "output_type": "stream",
     "text": [
      "9\n",
      "8\n",
      "7\n",
      "6\n",
      "5\n",
      "4\n",
      "3\n",
      "2\n",
      "1\n",
      "0\n"
     ]
    }
   ],
   "source": [
    "#si quiero que se printe a la inversa puedo basarme en la aritmética para que me coincida. \n",
    "for i in range(10):\n",
    "    print(9-i)"
   ]
  },
  {
   "cell_type": "code",
   "execution_count": null,
   "id": "1d03e846",
   "metadata": {},
   "outputs": [
    {
     "name": "stdout",
     "output_type": "stream",
     "text": [
      "9\n",
      "8\n",
      "7\n",
      "6\n",
      "5\n",
      "4\n",
      "3\n",
      "2\n",
      "1\n",
      "0\n"
     ]
    }
   ],
   "source": [
    "#también puedo usar el posicionamiento de los elementos lista.\n",
    "numeros = range (10)\n",
    "for i in numeros [::-1]:\n",
    "    print(i)"
   ]
  },
  {
   "cell_type": "code",
   "execution_count": 107,
   "id": "df3d4c18",
   "metadata": {},
   "outputs": [
    {
     "name": "stdout",
     "output_type": "stream",
     "text": [
      "2\n",
      "4\n",
      "6\n",
      "8\n"
     ]
    }
   ],
   "source": [
    "for i in range(2,10,2):\n",
    "    print(i)"
   ]
  },
  {
   "cell_type": "markdown",
   "id": "3685da2f",
   "metadata": {},
   "source": [
    "## While"
   ]
  },
  {
   "cell_type": "code",
   "execution_count": 41,
   "id": "1b1cbb98",
   "metadata": {},
   "outputs": [
    {
     "name": "stdout",
     "output_type": "stream",
     "text": [
      "0\n",
      "1\n",
      "2\n",
      "3\n",
      "4\n",
      "5\n",
      "6\n",
      "7\n",
      "8\n",
      "9\n"
     ]
    }
   ],
   "source": [
    "contador = 0\n",
    "while contador < 10:\n",
    "    print(contador)\n",
    "    contador += 1\n"
   ]
  },
  {
   "cell_type": "code",
   "execution_count": 46,
   "id": "7c552e1c",
   "metadata": {},
   "outputs": [
    {
     "name": "stdout",
     "output_type": "stream",
     "text": [
      "x==0, y=10\n",
      "x==1, y=8\n",
      "x==2, y=6\n",
      "x==3, y=4\n",
      "x==4, y=2\n"
     ]
    }
   ],
   "source": [
    "x = 0\n",
    "y= 10\n",
    "\n",
    "while x < 5 and y > 0:\n",
    "    print (f\"x=={x}, y={y}\")\n",
    "    x += 1  \n",
    "    y -= 2\n",
    "# le sumas 1 a la x y le restas 2 a la y\n",
    "# el bucle se detiene cuando la x es mayor que 5 o la y es menor que 0\n"
   ]
  },
  {
   "cell_type": "code",
   "execution_count": 44,
   "id": "a3411b74",
   "metadata": {},
   "outputs": [
    {
     "name": "stdout",
     "output_type": "stream",
     "text": [
      "0\n",
      "1\n",
      "2\n",
      "3\n",
      "4\n"
     ]
    }
   ],
   "source": [
    "contador = 0\n",
    "while True:\n",
    "    print(contador)\n",
    "    contador += 1\n",
    "    if contador >= 5:\n",
    "        break"
   ]
  },
  {
   "cell_type": "markdown",
   "id": "b5742ee7",
   "metadata": {},
   "source": [
    "## Listas"
   ]
  },
  {
   "cell_type": "code",
   "execution_count": 45,
   "id": "5cee633c",
   "metadata": {},
   "outputs": [],
   "source": [
    "numeros = [1, 2, 3, True, 4, 5, 'perro', 6, 7, 8, 9, 10]"
   ]
  },
  {
   "cell_type": "code",
   "execution_count": 55,
   "id": "990bef3e",
   "metadata": {},
   "outputs": [],
   "source": [
    "#si la lista es solo numérica se llamaría array unidimensional\n",
    "numeros = [1, 2, 3, 4, 5]\n"
   ]
  },
  {
   "cell_type": "code",
   "execution_count": 56,
   "id": "6c20502e",
   "metadata": {},
   "outputs": [],
   "source": [
    "#lista por comprensión, es cuando se incluyen operaciones en una lista.\n",
    "cuadrados = [n*2 for n in numeros]"
   ]
  },
  {
   "cell_type": "code",
   "execution_count": 57,
   "id": "bb9262f1",
   "metadata": {},
   "outputs": [
    {
     "data": {
      "text/plain": [
       "[2, 4, 6, 8, 10]"
      ]
     },
     "execution_count": 57,
     "metadata": {},
     "output_type": "execute_result"
    }
   ],
   "source": [
    "cuadrados"
   ]
  },
  {
   "cell_type": "code",
   "execution_count": null,
   "id": "e198b5a6",
   "metadata": {},
   "outputs": [
    {
     "name": "stdout",
     "output_type": "stream",
     "text": [
      "1\n",
      "4\n",
      "9\n",
      "16\n",
      "25\n"
     ]
    }
   ],
   "source": [
    "#lo que queremos decir es que para cada elemento que tenemos en la lista, queremos esta acción, por lo que a los elementos se les da un nombre de variable, en este caso n, y se le aplica la operación que queremos hacer.\n",
    "for numero in numeros:\n",
    "    print (numero**2)"
   ]
  },
  {
   "cell_type": "code",
   "execution_count": 59,
   "id": "fa572ef6",
   "metadata": {},
   "outputs": [
    {
     "name": "stdout",
     "output_type": "stream",
     "text": [
      "[2, 4, 6, 8, 10]\n"
     ]
    }
   ],
   "source": [
    "print (cuadrados)"
   ]
  },
  {
   "cell_type": "code",
   "execution_count": 60,
   "id": "36aec6d8",
   "metadata": {},
   "outputs": [
    {
     "name": "stdout",
     "output_type": "stream",
     "text": [
      "[2, 4]\n"
     ]
    }
   ],
   "source": [
    "pares = [numero for numero in numeros if numero % 2 == 0]\n",
    "print (pares)"
   ]
  },
  {
   "cell_type": "code",
   "execution_count": 61,
   "id": "255c8ab8",
   "metadata": {},
   "outputs": [
    {
     "name": "stdout",
     "output_type": "stream",
     "text": [
      "[2, 4]\n"
     ]
    }
   ],
   "source": [
    "# o también se puede hacer así, esta opción nos la ha dado copilot\n",
    "pares = []\n",
    "for numero in numeros:\n",
    "    if numero % 2 == 0:\n",
    "        pares.append(numero)\n",
    "print(pares)"
   ]
  },
  {
   "cell_type": "code",
   "execution_count": 64,
   "id": "3b9f206a",
   "metadata": {},
   "outputs": [],
   "source": [
    "#tipos de listas\n",
    "lista_vacía = []\n",
    "numeros = [1, 2, 3, 4, 5]\n",
    "mixta = [1, 2, 3, 'perro', True, 4.5]\n",
    "Anidada = [[1, 2, 3], [4, 5, 6], [7, 8, 9]]\n",
    "lista_diccionario = [{'nombre': 'Juan', 'edad': 25}, {'nombre': 'María', 'edad': 30}]\n",
    "lista_comprension = [x**2 for x in range(10)]"
   ]
  },
  {
   "cell_type": "code",
   "execution_count": 71,
   "id": "41c8ae68",
   "metadata": {},
   "outputs": [
    {
     "data": {
      "text/plain": [
       "6"
      ]
     },
     "execution_count": 71,
     "metadata": {},
     "output_type": "execute_result"
    }
   ],
   "source": [
    "#para buscar un elemento en una lista recurrimos a los índices\n",
    "#empezamos a contar en 0 y si es anidada o hay un diccionario dentro, necesitamos dos parameetros.\n",
    "Anidada[1][2]"
   ]
  },
  {
   "cell_type": "code",
   "execution_count": 72,
   "id": "f408e8ca",
   "metadata": {},
   "outputs": [],
   "source": [
    "#añadir elementos a la lista\n",
    "numeros.append(6) # añade al final"
   ]
  },
  {
   "cell_type": "code",
   "execution_count": 73,
   "id": "5dd2094c",
   "metadata": {},
   "outputs": [
    {
     "data": {
      "text/plain": [
       "[1, 2, 3, 4, 5, 6]"
      ]
     },
     "execution_count": 73,
     "metadata": {},
     "output_type": "execute_result"
    }
   ],
   "source": [
    "numeros"
   ]
  },
  {
   "cell_type": "code",
   "execution_count": 74,
   "id": "e98de500",
   "metadata": {},
   "outputs": [],
   "source": [
    "numeros.insert(0,6) # añade en la posición 0"
   ]
  },
  {
   "cell_type": "code",
   "execution_count": 75,
   "id": "0940c720",
   "metadata": {},
   "outputs": [
    {
     "data": {
      "text/plain": [
       "[6, 1, 2, 3, 4, 5, 6]"
      ]
     },
     "execution_count": 75,
     "metadata": {},
     "output_type": "execute_result"
    }
   ],
   "source": [
    "numeros"
   ]
  },
  {
   "cell_type": "code",
   "execution_count": 76,
   "id": "2b22bff6",
   "metadata": {},
   "outputs": [
    {
     "data": {
      "text/plain": [
       "[6, 1, 2, 3, 4, 5, 6, 7, 8, 9]"
      ]
     },
     "execution_count": 76,
     "metadata": {},
     "output_type": "execute_result"
    }
   ],
   "source": [
    "numeros.extend([7, 8, 9]) # añade al final\n",
    "numeros"
   ]
  },
  {
   "cell_type": "code",
   "execution_count": 79,
   "id": "6cd441b5",
   "metadata": {},
   "outputs": [
    {
     "data": {
      "text/plain": [
       "[6, 1, 2, 3, 4, 5, 6, 7, 8]"
      ]
     },
     "execution_count": 79,
     "metadata": {},
     "output_type": "execute_result"
    }
   ],
   "source": [
    "numeros.pop()# elimina el último elemento\n",
    "numeros"
   ]
  },
  {
   "cell_type": "code",
   "execution_count": 80,
   "id": "9c07c382",
   "metadata": {},
   "outputs": [
    {
     "data": {
      "text/plain": [
       "[6, 1, 3, 4, 5, 6, 7, 8]"
      ]
     },
     "execution_count": 80,
     "metadata": {},
     "output_type": "execute_result"
    }
   ],
   "source": [
    "numeros.remove(2) # elimina el primer elemento que coincida\n",
    "numeros"
   ]
  },
  {
   "cell_type": "code",
   "execution_count": 81,
   "id": "2d52f842",
   "metadata": {},
   "outputs": [],
   "source": [
    "numeros_2 = [1, 2, 3, 4, 5, 5, 5, 5, 5, 3, 2, 1]"
   ]
  },
  {
   "cell_type": "code",
   "execution_count": 83,
   "id": "7a30c7bf",
   "metadata": {},
   "outputs": [
    {
     "data": {
      "text/plain": [
       "[1, 2, 3, 4, 5, 5, 5, 5, 5, 3, 2, 1]"
      ]
     },
     "execution_count": 83,
     "metadata": {},
     "output_type": "execute_result"
    }
   ],
   "source": [
    "numeros_2.count(5) # cuenta cuántas veces aparece el 5\n",
    "numeros_2"
   ]
  },
  {
   "cell_type": "code",
   "execution_count": 84,
   "id": "001f71e5",
   "metadata": {},
   "outputs": [
    {
     "data": {
      "text/plain": [
       "[1, 1, 2, 2, 3, 3, 4, 5, 5, 5, 5, 5]"
      ]
     },
     "execution_count": 84,
     "metadata": {},
     "output_type": "execute_result"
    }
   ],
   "source": [
    "numeros_2.sort() # ordena la lista de menor a mayor \n",
    "numeros_2"
   ]
  },
  {
   "cell_type": "code",
   "execution_count": 85,
   "id": "62a2be2c",
   "metadata": {},
   "outputs": [
    {
     "data": {
      "text/plain": [
       "[5, 5, 5, 5, 5, 4, 3, 3, 2, 2, 1, 1]"
      ]
     },
     "execution_count": 85,
     "metadata": {},
     "output_type": "execute_result"
    }
   ],
   "source": [
    "numeros_2.sort(reverse=True) # ordena la lista de mayor a menor\n",
    "numeros_2"
   ]
  },
  {
   "cell_type": "code",
   "execution_count": 86,
   "id": "661f7777",
   "metadata": {},
   "outputs": [
    {
     "data": {
      "text/plain": [
       "[1, 1, 2, 2, 3, 3, 4, 5, 5, 5, 5, 5]"
      ]
     },
     "execution_count": 86,
     "metadata": {},
     "output_type": "execute_result"
    }
   ],
   "source": [
    "numeros_2.reverse() # invierte la lista\n",
    "numeros_2"
   ]
  },
  {
   "cell_type": "code",
   "execution_count": 87,
   "id": "d9d7749e",
   "metadata": {},
   "outputs": [
    {
     "data": {
      "text/plain": [
       "[1, 1, 2, 2, 3, 3, 4, 5, 5, 5, 5, 5]"
      ]
     },
     "execution_count": 87,
     "metadata": {},
     "output_type": "execute_result"
    }
   ],
   "source": [
    "copia= numeros_2.copy() # copia la lista\n",
    "copia"
   ]
  },
  {
   "cell_type": "code",
   "execution_count": 88,
   "id": "d0e39144",
   "metadata": {},
   "outputs": [
    {
     "data": {
      "text/plain": [
       "[]"
      ]
     },
     "execution_count": 88,
     "metadata": {},
     "output_type": "execute_result"
    }
   ],
   "source": [
    "copia.clear() # elimina todos los elementos de la lista\n",
    "copia"
   ]
  }
 ],
 "metadata": {
  "kernelspec": {
   "display_name": "upgrade_entorno",
   "language": "python",
   "name": "python3"
  },
  "language_info": {
   "codemirror_mode": {
    "name": "ipython",
    "version": 3
   },
   "file_extension": ".py",
   "mimetype": "text/x-python",
   "name": "python",
   "nbconvert_exporter": "python",
   "pygments_lexer": "ipython3",
   "version": "3.10.11"
  }
 },
 "nbformat": 4,
 "nbformat_minor": 5
}
