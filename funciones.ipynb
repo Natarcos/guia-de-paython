{
 "cells": [
  {
   "cell_type": "markdown",
   "id": "39c10e0b",
   "metadata": {},
   "source": [
    "# Funciones"
   ]
  },
  {
   "cell_type": "markdown",
   "id": "caf2b996",
   "metadata": {},
   "source": [
    "### Bloques de código reutilibles, se diseñan para realizar una tarea específica. "
   ]
  },
  {
   "cell_type": "markdown",
   "id": "1bc8c69b",
   "metadata": {},
   "source": [
    "Evitar la repetición de código <br>\n",
    "Modularizar nuestro programa <br>\n",
    "Mejorar la legibilidad de nuestro código <br>\n",
    "Crear librerias propuas <br>\n",
    "Facilitar el mantenimiento <br>"
   ]
  },
  {
   "cell_type": "code",
   "execution_count": 34,
   "id": "c8da6ab7",
   "metadata": {},
   "outputs": [],
   "source": [
    "#sintaxis básica de una función\n",
    "\n",
    "def nombre_de_funcion(parametro1, parametro2):\n",
    "    \n",
    "    \"\"\"\n",
    "    documentación de la función\n",
    "    \"\"\"\n",
    "    #cuerpo de la función, instrucciones de la función a ejecutar\n",
    "    return resultado\n"
   ]
  },
  {
   "cell_type": "code",
   "execution_count": 38,
   "id": "29cb8b32",
   "metadata": {},
   "outputs": [],
   "source": [
    "def saludar (nombre):\n",
    "    \n",
    "    \"\"\"\n",
    "    Esta función recibe un nombre y devuelve un saludo\n",
    "    \"\"\"\n",
    "    saludo = f\"Hola {nombre}\"\n",
    "    return saludo"
   ]
  },
  {
   "cell_type": "code",
   "execution_count": 39,
   "id": "978bfc37",
   "metadata": {},
   "outputs": [
    {
     "data": {
      "text/plain": [
       "'Hola Juan'"
      ]
     },
     "execution_count": 39,
     "metadata": {},
     "output_type": "execute_result"
    }
   ],
   "source": [
    "saludar ('Juan')"
   ]
  },
  {
   "cell_type": "markdown",
   "id": "2001b054",
   "metadata": {},
   "source": [
    "### Los paramétros se una función son los variables que aparecen en la definición de la función.\n",
    "### Los argumentos son los valores que le pasamos ala función cuando la llamamos. "
   ]
  },
  {
   "cell_type": "code",
   "execution_count": 40,
   "id": "bb849910",
   "metadata": {},
   "outputs": [],
   "source": [
    "def describir_persona (nombre, edad, ciudad):\n",
    "    \n",
    "    \"\"\"\n",
    "    Esta función recibe el nombre, la edad y la ciudad de una persona y devuelve una descripción\n",
    "    \"\"\"\n",
    "    descripcion = f\"{nombre} tiene {edad} años y vive en {ciudad}\"\n",
    "    return descripcion\n"
   ]
  },
  {
   "cell_type": "code",
   "execution_count": 41,
   "id": "c4698327",
   "metadata": {},
   "outputs": [
    {
     "data": {
      "text/plain": [
       "'Juan tiene 30 años y vive en Madrid'"
      ]
     },
     "execution_count": 41,
     "metadata": {},
     "output_type": "execute_result"
    }
   ],
   "source": [
    "describir_persona ('Juan', 30, 'Madrid')"
   ]
  },
  {
   "cell_type": "code",
   "execution_count": 42,
   "id": "fbf19685",
   "metadata": {},
   "outputs": [
    {
     "data": {
      "text/plain": [
       "'Juan tiene 30 años y vive en Madrid'"
      ]
     },
     "execution_count": 42,
     "metadata": {},
     "output_type": "execute_result"
    }
   ],
   "source": [
    "describir_persona (edad=30, ciudad='Madrid', nombre='Juan')"
   ]
  },
  {
   "cell_type": "code",
   "execution_count": 48,
   "id": "595a9d01",
   "metadata": {},
   "outputs": [],
   "source": [
    "#n variable de argumentos, *args (tuplas de armgumentos posicionales)\n",
    "\n",
    "def sumar (*numeros):\n",
    "    \n",
    "    \"\"\"\n",
    "    Esta función recibe una cantidad variable de números\n",
    "    \"\"\"\n",
    "    suma = 0\n",
    "    for numero in numeros:\n",
    "        suma += numero\n",
    "    return suma"
   ]
  },
  {
   "cell_type": "code",
   "execution_count": 49,
   "id": "36cead53",
   "metadata": {},
   "outputs": [
    {
     "data": {
      "text/plain": [
       "15"
      ]
     },
     "execution_count": 49,
     "metadata": {},
     "output_type": "execute_result"
    }
   ],
   "source": [
    "sumar(1, 2, 3, 4, 5)"
   ]
  },
  {
   "cell_type": "code",
   "execution_count": 50,
   "id": "c726319b",
   "metadata": {},
   "outputs": [],
   "source": [
    "#con **kwargs (diccionarios de argumentos nombrados)\n",
    "\n",
    "def datos_personales (**datos):\n",
    "    \n",
    "    \"\"\"\n",
    "    Esta función recibe una cantidad variable de datos personales\n",
    "    \"\"\"\n",
    "    for clave, valor in datos.items():\n",
    "        print(f\"{clave}: {valor}\")"
   ]
  },
  {
   "cell_type": "code",
   "execution_count": 53,
   "id": "6bf4d5c5",
   "metadata": {},
   "outputs": [
    {
     "name": "stdout",
     "output_type": "stream",
     "text": [
      "nombre: Juan\n",
      "edad: 30\n",
      "ciudad: Madrid\n",
      "profesion: Ingeniero\n"
     ]
    }
   ],
   "source": [
    "datos_personales(nombre='Juan', edad=30, ciudad='Madrid', profesion='Ingeniero')"
   ]
  },
  {
   "cell_type": "code",
   "execution_count": 56,
   "id": "ea6c17db",
   "metadata": {},
   "outputs": [],
   "source": [
    "#como usar el return de una función para devolver el valor de una variables\n",
    "\n",
    "def calcular_area_rectangulo(base, altura):\n",
    "    \n",
    "    \"\"\"\n",
    "    Esta función recibe la base y la altura de un rectángulo y devuelve su área\n",
    "    \"\"\"\n",
    "    area = base * altura\n",
    "    return area"
   ]
  },
  {
   "cell_type": "code",
   "execution_count": 57,
   "id": "676e1dc5",
   "metadata": {},
   "outputs": [
    {
     "data": {
      "text/plain": [
       "50"
      ]
     },
     "execution_count": 57,
     "metadata": {},
     "output_type": "execute_result"
    }
   ],
   "source": [
    "calcular_area_rectangulo (5,10)"
   ]
  },
  {
   "cell_type": "code",
   "execution_count": 62,
   "id": "b50255c6",
   "metadata": {},
   "outputs": [],
   "source": [
    "#si tengo una variable externa y quiero modificarla internamente podemos usar global\n",
    "\n",
    "z = 5\n",
    "def modificar_z():\n",
    "    \n",
    "    \"\"\"\n",
    "    Esta función modifica una variable z\n",
    "    \"\"\"\n",
    "    global z\n",
    "    z = 10\n",
    "    return z"
   ]
  },
  {
   "cell_type": "code",
   "execution_count": 63,
   "id": "4c43a330",
   "metadata": {},
   "outputs": [
    {
     "data": {
      "text/plain": [
       "10"
      ]
     },
     "execution_count": 63,
     "metadata": {},
     "output_type": "execute_result"
    }
   ],
   "source": [
    "modificar_z()"
   ]
  },
  {
   "cell_type": "code",
   "execution_count": 64,
   "id": "0a4a422d",
   "metadata": {},
   "outputs": [
    {
     "data": {
      "text/plain": [
       "10"
      ]
     },
     "execution_count": 64,
     "metadata": {},
     "output_type": "execute_result"
    }
   ],
   "source": [
    "z"
   ]
  },
  {
   "cell_type": "code",
   "execution_count": 27,
   "id": "4f87d83c",
   "metadata": {},
   "outputs": [],
   "source": [
    "def sumar(a,b):\n",
    "    return a + b"
   ]
  },
  {
   "cell_type": "code",
   "execution_count": 28,
   "id": "2aa82e6d",
   "metadata": {},
   "outputs": [
    {
     "data": {
      "text/plain": [
       "110"
      ]
     },
     "execution_count": 28,
     "metadata": {},
     "output_type": "execute_result"
    }
   ],
   "source": [
    "sumar(33,77)"
   ]
  },
  {
   "cell_type": "code",
   "execution_count": 29,
   "id": "81c06451",
   "metadata": {},
   "outputs": [],
   "source": [
    "def es_par (n):\n",
    "    return n%2 == 0"
   ]
  },
  {
   "cell_type": "code",
   "execution_count": 30,
   "id": "4061bb0f",
   "metadata": {},
   "outputs": [],
   "source": [
    "def par (numero):\n",
    "    if es_par(numero):\n",
    "        print(\"El número es par\")\n",
    "    else:\n",
    "        print(\"El número es impar\")"
   ]
  },
  {
   "cell_type": "code",
   "execution_count": 31,
   "id": "ef3674aa",
   "metadata": {},
   "outputs": [],
   "source": [
    "def contar_vocales(texto):\n",
    "    texto = texto.lower()\n",
    "    contador = 0\n",
    "    for letra in texto:\n",
    "        if letra.lower() in \"aeiou\":\n",
    "            contador += 1\n",
    "    return contador"
   ]
  },
  {
   "cell_type": "code",
   "execution_count": 32,
   "id": "8b505b9b",
   "metadata": {},
   "outputs": [
    {
     "data": {
      "text/plain": [
       "4"
      ]
     },
     "execution_count": 32,
     "metadata": {},
     "output_type": "execute_result"
    }
   ],
   "source": [
    "contar_vocales(\"Hola Mundo\")"
   ]
  },
  {
   "cell_type": "code",
   "execution_count": 33,
   "id": "716480ca",
   "metadata": {},
   "outputs": [
    {
     "data": {
      "text/plain": [
       "11"
      ]
     },
     "execution_count": 33,
     "metadata": {},
     "output_type": "execute_result"
    }
   ],
   "source": [
    "contar_vocales (\"esternocleidomastoideo\")"
   ]
  },
  {
   "cell_type": "markdown",
   "id": "a87517e5",
   "metadata": {},
   "source": [
    "## Lambda"
   ]
  },
  {
   "cell_type": "code",
   "execution_count": 65,
   "id": "c34eac87",
   "metadata": {},
   "outputs": [],
   "source": [
    "#son funciones anónimas\n",
    "#están definidas con la plabra reservada lambda\n",
    "#se suelen utilizar cuando necesitamos una función simple por un breve periodo\n",
    "\n",
    "#características:\n",
    "#1. No tienen nombre\n",
    "#2. Solo pueden conener una expresion (no multiples líneas ni instrucciones)\n",
    "#3. no necesitan la palabra return (la expresión se devuelve automátivamente)"
   ]
  },
  {
   "cell_type": "code",
   "execution_count": null,
   "id": "dd6684c8",
   "metadata": {},
   "outputs": [],
   "source": [
    "lambda argumento : expresión"
   ]
  },
  {
   "cell_type": "code",
   "execution_count": 68,
   "id": "51d4d853",
   "metadata": {},
   "outputs": [],
   "source": [
    "#dada una funión cualquiera\n",
    "\n",
    "def sumar(a,b):\n",
    "    return a + b\n",
    "\n",
    "#esta sería su equivalente en lambda\n",
    "lambda_sumar = lambda a,b : a + b"
   ]
  },
  {
   "cell_type": "code",
   "execution_count": 69,
   "id": "6eaecc9a",
   "metadata": {},
   "outputs": [
    {
     "data": {
      "text/plain": [
       "7"
      ]
     },
     "execution_count": 69,
     "metadata": {},
     "output_type": "execute_result"
    }
   ],
   "source": [
    "lambda_sumar (3,4)"
   ]
  },
  {
   "cell_type": "code",
   "execution_count": 75,
   "id": "71b1e0e2",
   "metadata": {},
   "outputs": [],
   "source": [
    "#Las lambda se suelen usar con funciones de orden superior\n",
    "#map, filter y sorted\n",
    "#map: aplica una función a cada elemento de un iterable y devuelve un nuevo iterable con los resultados\n",
    "#filter: filtra los elementos de un iterable según una función y devuelve un nuevo iterable con los elementos que cumplen la condición\n",
    "#sorted: ordena un iterable según una función y devuelve una lista con los elementos ordenados\n",
    "#list: convierte un iterable en una lista\n",
    "#reduce: aplica una función a los elementos de un iterable y devuelve un único valor\n",
    "#set: convierte un iterable en un conjunto\n",
    "#zip: combina varios iterables en un solo iterable de tuplas\n",
    "#enumerate: devuelve un iterable de tuplas con el índice y el valor de cada elemento de un iterable\n",
    "#dict: convierte un iterable de tuplas en un diccionario\n",
    "#tuple: convierte un iterable en una tupla\n",
    "#all: devuelve True si todos los elementos de un iterable son verdaderos"
   ]
  },
  {
   "cell_type": "code",
   "execution_count": 71,
   "id": "3ad970f8",
   "metadata": {},
   "outputs": [],
   "source": [
    "numeros = [1, 2, 3, 4, 5]\n",
    "cuadrados = list(map(lambda x: x**2, numeros))\n"
   ]
  },
  {
   "cell_type": "code",
   "execution_count": 74,
   "id": "d0e4f0be",
   "metadata": {},
   "outputs": [
    {
     "data": {
      "text/plain": [
       "[1, 4, 9, 16, 25]"
      ]
     },
     "execution_count": 74,
     "metadata": {},
     "output_type": "execute_result"
    }
   ],
   "source": [
    "cuadrados"
   ]
  },
  {
   "cell_type": "markdown",
   "id": "ec6ebac6",
   "metadata": {},
   "source": [
    "# Ejercicios"
   ]
  },
  {
   "cell_type": "markdown",
   "id": "eaf7b734",
   "metadata": {},
   "source": [
    "Ejercicio 1: Generador de Contraseñas Simple <br>\n",
    "Escribe una función que genere una contraseña aleatoria con la longitud especificada. Usa import random y import string"
   ]
  },
  {
   "cell_type": "code",
   "execution_count": 94,
   "id": "5209f462",
   "metadata": {},
   "outputs": [],
   "source": [
    "import random\n",
    "import string\n",
    "def generar_contraseña(longitud):\n",
    "    \"\"\"\n",
    "    Esta función genera una contraseña aleatoria con la longitud deseada\n",
    "    \"\"\"\n",
    "    caracteres = string.ascii_letters + string.digits + string.punctuation\n",
    "    contraseña = '' .join(random.choice(caracteres) for _ in range(longitud))\n",
    "    return contraseña\n"
   ]
  },
  {
   "cell_type": "code",
   "execution_count": 95,
   "id": "651dda30",
   "metadata": {},
   "outputs": [
    {
     "data": {
      "text/plain": [
       "')TvU5_S/'"
      ]
     },
     "execution_count": 95,
     "metadata": {},
     "output_type": "execute_result"
    }
   ],
   "source": [
    "generar_contraseña(8)"
   ]
  },
  {
   "cell_type": "code",
   "execution_count": 97,
   "id": "756b6a66",
   "metadata": {},
   "outputs": [
    {
     "data": {
      "text/plain": [
       "'7w[tmq.F?>:;XtW'"
      ]
     },
     "execution_count": 97,
     "metadata": {},
     "output_type": "execute_result"
    }
   ],
   "source": [
    "generar_contraseña(15)"
   ]
  },
  {
   "cell_type": "markdown",
   "id": "e330cf2d",
   "metadata": {},
   "source": [
    "Calculadora Funcional:\n",
    "Crea una calculadora que use funciones lambda para las operaciones básicas y permita al usuario elegir la operación."
   ]
  },
  {
   "cell_type": "code",
   "execution_count": null,
   "id": "a5d7956f",
   "metadata": {},
   "outputs": [],
   "source": [
    "def calculadora():\n",
    "    \"\"\"\n",
    "    Esta función permite al usuario elegir una operación y realizarla\n",
    "    \"\"\"\n",
    "    operaciones = {\n",
    "        'suma': lambda a, b: a + b,\n",
    "        'resta': lambda a, b: a - b,\n",
    "        'multiplicación': lambda a, b: a * b,\n",
    "        'división': lambda a, b: a / b\n",
    "    }\n",
    "    \n",
    "    print(\"Operaciones disponibles: suma, resta, multiplicación, división\")\n",
    "    eleccion = input(\"Ingresa la operación que deseas realizar: \").lower()\n",
    "    print(\"Operación elegida:\", eleccion)\n",
    "    if eleccion not in operaciones:\n",
    "        print(\"Operación no válida. Intenta de nuevo.\")\n",
    "        return\n",
    "    operacion = operaciones[eleccion]\n",
    "    \n",
    "    \n",
    "    print(\"Ingresa los números que deseas operar:\")\n",
    "    \n",
    "    num1 = float(input(\"Ingresa el primer número: \"))\n",
    "    num2 = float(input(\"Ingresa el segundo número: \"))\n",
    "    print(\"Números elegidos:\", num1, num2)\n",
    "    \n",
    "    resultado = operacion(num1, num2)\n",
    "    \n",
    "    print(f\"El resultado es: {resultado}\")"
   ]
  },
  {
   "cell_type": "code",
   "execution_count": 112,
   "id": "a06faf91",
   "metadata": {},
   "outputs": [
    {
     "name": "stdout",
     "output_type": "stream",
     "text": [
      "Operaciones disponibles: suma, resta, multiplicación, división\n",
      "Operación elegida: división\n",
      "Ingresa los números que deseas operar:\n",
      "Números elegidos: 20.0 2.0\n",
      "El resultado es: 10.0\n"
     ]
    }
   ],
   "source": [
    "calculadora()"
   ]
  },
  {
   "cell_type": "code",
   "execution_count": 114,
   "id": "513aa536",
   "metadata": {},
   "outputs": [
    {
     "name": "stdout",
     "output_type": "stream",
     "text": [
      "\n",
      "==== CALCULADORA FUNCIONAL ====\n",
      "1. Suma +\n",
      "2. Resta -\n",
      "3. Multiplicación *\n",
      "4. División /\n",
      "5. Potencia ^\n",
      "6. Módulo %\n",
      "7. Raíz √\n",
      "0. Salir\n",
      "\n",
      "Operación: 6.0 ^ 8.0\n",
      "Resultado: 1679616.00\n",
      "¡Gracias por usar la calculadora!\n"
     ]
    }
   ],
   "source": [
    "def calculadora():\n",
    "    \"\"\"\n",
    "    Calculadora que utiliza funciones lambda para realizar operaciones matemáticas básicas.\n",
    "    Permite al usuario elegir la operación e ingresar los operandos.\n",
    "    \"\"\"\n",
    "    # Definir operaciones usando funciones lambda\n",
    "    operaciones = {\n",
    "        '1': {\n",
    "            'nombre': 'Suma',\n",
    "            'simbolo': '+',\n",
    "            'funcion': lambda x, y: x + y\n",
    "        },\n",
    "        '2': {\n",
    "            'nombre': 'Resta',\n",
    "            'simbolo': '-',\n",
    "            'funcion': lambda x, y: x - y\n",
    "        },\n",
    "        '3': {\n",
    "            'nombre': 'Multiplicación',\n",
    "            'simbolo': '*',\n",
    "            'funcion': lambda x, y: x * y\n",
    "        },\n",
    "        '4': {\n",
    "            'nombre': 'División',\n",
    "            'simbolo': '/',\n",
    "            'funcion': lambda x, y: x / y if y != 0 else \"Error: División por cero\"\n",
    "        },\n",
    "        '5': {\n",
    "            'nombre': 'Potencia',\n",
    "            'simbolo': '^',\n",
    "            'funcion': lambda x, y: x ** y\n",
    "        },\n",
    "        '6': {\n",
    "            'nombre': 'Módulo',\n",
    "            'simbolo': '%',\n",
    "            'funcion': lambda x, y: x % y if y != 0 else \"Error: Módulo por cero\"\n",
    "        },\n",
    "        '7': {\n",
    "            'nombre': 'Raíz',\n",
    "            'simbolo': '√',\n",
    "            'funcion': lambda x, y: x ** (1/y) if y != 0 else \"Error: Exponente inválido\"\n",
    "        }\n",
    "    }\n",
    "\n",
    "    def mostrar_menu():\n",
    "        \"\"\"Muestra el menú de operaciones disponibles\"\"\"\n",
    "        print(\"\\n==== CALCULADORA FUNCIONAL ====\")\n",
    "        for key, op in operaciones.items():\n",
    "            print(f\"{key}. {op['nombre']} {op['simbolo']}\")\n",
    "        print(\"0. Salir\")\n",
    "        return input(\"\\nSeleccione una operación (0-7): \")\n",
    "\n",
    "    def obtener_numeros():\n",
    "        \"\"\"Solicita y valida los números para la operación\"\"\"\n",
    "        try:\n",
    "            num1 = float(input(\"Primer número: \"))\n",
    "            num2 = float(input(\"Segundo número: \"))\n",
    "            return num1, num2\n",
    "        except ValueError:\n",
    "            print(\"Error: Ingrese solo valores numéricos\")\n",
    "            return obtener_numeros()\n",
    "\n",
    "    # Bucle principal\n",
    "    while True:\n",
    "        opcion = mostrar_menu()\n",
    "        \n",
    "        if opcion == '0':\n",
    "            print(\"¡Gracias por usar la calculadora!\")\n",
    "            break\n",
    "            \n",
    "        if opcion not in operaciones:\n",
    "            print(\"Opción inválida. Intente nuevamente.\")\n",
    "            continue\n",
    "            \n",
    "        num1, num2 = obtener_numeros()\n",
    "        operacion = operaciones[opcion]\n",
    "        \n",
    "        # Aplicar la función lambda correspondiente\n",
    "        resultado = operacion['funcion'](num1, num2)\n",
    "        # Mostrar el resultado\n",
    "        print(f\"\\nOperación: {num1} {operacion['simbolo']} {num2}\")\n",
    "        print(f\"Resultado: {resultado:.2f}\")\n",
    "        \n",
    "        # Preguntar si desea continuar\n",
    "        continuar = input(\"\\n¿Desea realizar otra operación? (s/n): \").lower()\n",
    "        if continuar != 's':\n",
    "            print(\"¡Gracias por usar la calculadora!\")\n",
    "            break\n",
    "\n",
    "if __name__ == \"__main__\":\n",
    "    calculadora()"
   ]
  }
 ],
 "metadata": {
  "kernelspec": {
   "display_name": "Python 3",
   "language": "python",
   "name": "python3"
  },
  "language_info": {
   "codemirror_mode": {
    "name": "ipython",
    "version": 3
   },
   "file_extension": ".py",
   "mimetype": "text/x-python",
   "name": "python",
   "nbconvert_exporter": "python",
   "pygments_lexer": "ipython3",
   "version": "3.10.11"
  }
 },
 "nbformat": 4,
 "nbformat_minor": 5
}
