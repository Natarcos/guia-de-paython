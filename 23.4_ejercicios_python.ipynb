{
 "cells": [
  {
   "cell_type": "markdown",
   "id": "af78ef9f",
   "metadata": {},
   "source": [
    "Escribe un programa que imprima todos los números pares del 1 al 20."
   ]
  },
  {
   "cell_type": "code",
   "execution_count": 4,
   "id": "0fed9c5a",
   "metadata": {},
   "outputs": [
    {
     "name": "stdout",
     "output_type": "stream",
     "text": [
      "2\n",
      "4\n",
      "6\n",
      "8\n",
      "10\n",
      "12\n",
      "14\n",
      "16\n",
      "18\n",
      "20\n"
     ]
    }
   ],
   "source": [
    "#numeros pares del 1 al 20\n",
    "for i in range(1,21):\n",
    "    if i % 2 == 0:\n",
    "        print(i)"
   ]
  },
  {
   "cell_type": "code",
   "execution_count": 16,
   "id": "5d646b32",
   "metadata": {},
   "outputs": [
    {
     "name": "stdout",
     "output_type": "stream",
     "text": [
      "2\n",
      "4\n",
      "6\n",
      "8\n",
      "10\n",
      "12\n",
      "14\n",
      "16\n",
      "18\n",
      "20\n"
     ]
    }
   ],
   "source": [
    "for numero in range (2,21,2):\n",
    "    print(numero)"
   ]
  },
  {
   "cell_type": "markdown",
   "id": "a3a7aaea",
   "metadata": {},
   "source": [
    "Escribe un programa que calcule la suma de todos los números del 1 al 100"
   ]
  },
  {
   "cell_type": "code",
   "execution_count": 5,
   "id": "2dc06efe",
   "metadata": {},
   "outputs": [
    {
     "name": "stdout",
     "output_type": "stream",
     "text": [
      "5050\n"
     ]
    }
   ],
   "source": [
    "#suma de todos los números del 1 al 100\n",
    "suma = 0\n",
    "for i in range(1, 101):\n",
    "    suma += i\n",
    "print(suma)"
   ]
  },
  {
   "cell_type": "code",
   "execution_count": 17,
   "id": "6a9009f6",
   "metadata": {},
   "outputs": [
    {
     "name": "stdout",
     "output_type": "stream",
     "text": [
      "5050\n"
     ]
    }
   ],
   "source": [
    "print(sum(range(1,101)))"
   ]
  },
  {
   "cell_type": "markdown",
   "id": "cd2dad1e",
   "metadata": {},
   "source": [
    "Escribe un programa que muestre la tabla de multiplicar de un número ingresado por el usuario (del 1 al 10)."
   ]
  },
  {
   "cell_type": "code",
   "execution_count": null,
   "id": "c738a2ee",
   "metadata": {},
   "outputs": [
    {
     "name": "stdout",
     "output_type": "stream",
     "text": [
      "Tabla de multiplicar del 8:\n",
      "8 x 1 = 8\n",
      "8 x 2 = 16\n",
      "8 x 3 = 24\n",
      "8 x 4 = 32\n",
      "8 x 5 = 40\n",
      "8 x 6 = 48\n",
      "8 x 7 = 56\n",
      "8 x 8 = 64\n",
      "8 x 9 = 72\n",
      "8 x 10 = 80\n"
     ]
    }
   ],
   "source": [
    "numero = int(input(\"ingresa un número: \"))\n",
    "print (f\"Tabla de multiplicar del {numero}:\")\n",
    "for i in range(1, 11):\n",
    "    print(f\"{numero} x {i} = {numero * i}\")\n",
    "    "
   ]
  },
  {
   "cell_type": "markdown",
   "id": "c750aae2",
   "metadata": {},
   "source": [
    "Escribe un programa que encuentre el número más grande en una lista."
   ]
  },
  {
   "cell_type": "code",
   "execution_count": 8,
   "id": "716e4f20",
   "metadata": {},
   "outputs": [],
   "source": [
    "numeros = [45, 67, 12, 89, 34, 56, 23, 9, 78]"
   ]
  },
  {
   "cell_type": "code",
   "execution_count": 9,
   "id": "e9f27a05",
   "metadata": {},
   "outputs": [
    {
     "name": "stdout",
     "output_type": "stream",
     "text": [
      "89\n"
     ]
    }
   ],
   "source": [
    "mayor = max(numeros)\n",
    "print(mayor)"
   ]
  },
  {
   "cell_type": "code",
   "execution_count": 20,
   "id": "4ce19601",
   "metadata": {},
   "outputs": [
    {
     "data": {
      "text/plain": [
       "89"
      ]
     },
     "execution_count": 20,
     "metadata": {},
     "output_type": "execute_result"
    }
   ],
   "source": [
    "numeros = [45, 67, 12, 89, 34, 56, 23, 9, 78]\n",
    "max(numeros)"
   ]
  },
  {
   "cell_type": "code",
   "execution_count": null,
   "id": "37d73905",
   "metadata": {},
   "outputs": [],
   "source": []
  },
  {
   "cell_type": "markdown",
   "id": "37d4336d",
   "metadata": {},
   "source": [
    "Escribe un programa que cuente cuántas vocales hay en una palabra ingresada por el usuario."
   ]
  },
  {
   "cell_type": "code",
   "execution_count": 15,
   "id": "c15a6ff4",
   "metadata": {},
   "outputs": [
    {
     "name": "stdout",
     "output_type": "stream",
     "text": [
      "4\n"
     ]
    }
   ],
   "source": [
    "#contar vocales de una palabra ingresada a través de input\n",
    "palabra = input(\"Ingrese una palabra: \")\n",
    "vocales = \"aeiouAEIOU\"\n",
    "contador = 0\n",
    "for letra in palabra:\n",
    "    if letra in vocales:\n",
    "        contador += 1\n",
    "print(contador)"
   ]
  },
  {
   "cell_type": "code",
   "execution_count": null,
   "id": "6ce689d3",
   "metadata": {},
   "outputs": [],
   "source": []
  }
 ],
 "metadata": {
  "kernelspec": {
   "display_name": "upgrade_entorno",
   "language": "python",
   "name": "python3"
  },
  "language_info": {
   "codemirror_mode": {
    "name": "ipython",
    "version": 3
   },
   "file_extension": ".py",
   "mimetype": "text/x-python",
   "name": "python",
   "nbconvert_exporter": "python",
   "pygments_lexer": "ipython3",
   "version": "3.10.11"
  }
 },
 "nbformat": 4,
 "nbformat_minor": 5
}
